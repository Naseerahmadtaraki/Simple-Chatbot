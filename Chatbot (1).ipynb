{
 "cells": [
  {
   "cell_type": "markdown",
   "id": "027e36c3-e7d7-4146-800e-8c622d8c8b1b",
   "metadata": {},
   "source": [
    "Naseer Ahmad Taraki"
   ]
  },
  {
   "cell_type": "code",
   "execution_count": 1,
   "id": "72d62762-c26f-4b4b-8c38-62eb9b224ad3",
   "metadata": {},
   "outputs": [
    {
     "name": "stdout",
     "output_type": "stream",
     "text": [
      "ChatBot: Hello! I am your simple chatbot. How can I help you today?\n",
      "Type 'quit' to exit the chat.\n"
     ]
    },
    {
     "name": "stdin",
     "output_type": "stream",
     "text": [
      "You:  hi\n"
     ]
    },
    {
     "name": "stdout",
     "output_type": "stream",
     "text": [
      "ChatBot: Hi there! How are you today?\n"
     ]
    },
    {
     "name": "stdin",
     "output_type": "stream",
     "text": [
      "You:  how are you\n"
     ]
    },
    {
     "name": "stdout",
     "output_type": "stream",
     "text": [
      "ChatBot: I'm just a bot, but I'm functioning perfectly. How about you?\n"
     ]
    },
    {
     "name": "stdin",
     "output_type": "stream",
     "text": [
      "You:  quit\n"
     ]
    },
    {
     "name": "stdout",
     "output_type": "stream",
     "text": [
      "ChatBot: Goodbye! Have a great day!\n"
     ]
    }
   ],
   "source": [
    "# Enhanced Chatbot\n",
    "def chatbot():\n",
    "    print(\"ChatBot: Hello! I am your simple chatbot. How can I help you today?\")\n",
    "    print(\"Type 'quit' to exit the chat.\")\n",
    "    \n",
    "    while True:\n",
    "        user_input = input(\"You: \").strip().lower()\n",
    "        \n",
    "        if user_input in [\"quit\", \"exit\", \"bye\"]:\n",
    "            print(\"ChatBot: Goodbye! Have a great day!\")\n",
    "            break\n",
    "        \n",
    "        elif \"hello\" in user_input or \"hi\" in user_input:\n",
    "            print(\"ChatBot: Hi there! How are you today?\")\n",
    "        elif \"how are you\" in user_input:\n",
    "            print(\"ChatBot: I'm just a bot, but I'm functioning perfectly. How about you?\")\n",
    "        elif \"are you working\" in user_input:\n",
    "            print(\"ChatBot: Yes, I am here to assist you 24/7!\")\n",
    "        elif \"your name\" in user_input:\n",
    "            print(\"ChatBot: My name is SimpleBot, your virtual assistant.\")\n",
    "        elif \"what did you do yesterday\" in user_input:\n",
    "            print(\"ChatBot: Don't ask me again such question\")\n",
    "        else:\n",
    "            print(\"ChatBot: I'm not sure I understand. Could you ask something else?\")\n",
    "            \n",
    "# Run the chatbot\n",
    "chatbot()\n"
   ]
  },
  {
   "cell_type": "code",
   "execution_count": null,
   "id": "1066d1f3-cdbf-43bd-9217-f35226c4eebf",
   "metadata": {},
   "outputs": [],
   "source": []
  },
  {
   "cell_type": "code",
   "execution_count": null,
   "id": "562761f7-a874-4112-85b0-e5af4078600c",
   "metadata": {},
   "outputs": [],
   "source": []
  }
 ],
 "metadata": {
  "kernelspec": {
   "display_name": "Python 3 (ipykernel)",
   "language": "python",
   "name": "python3"
  },
  "language_info": {
   "codemirror_mode": {
    "name": "ipython",
    "version": 3
   },
   "file_extension": ".py",
   "mimetype": "text/x-python",
   "name": "python",
   "nbconvert_exporter": "python",
   "pygments_lexer": "ipython3",
   "version": "3.12.4"
  }
 },
 "nbformat": 4,
 "nbformat_minor": 5
}
